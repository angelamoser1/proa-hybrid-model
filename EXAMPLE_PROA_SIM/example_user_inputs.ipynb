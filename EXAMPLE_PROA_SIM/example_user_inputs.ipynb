{
 "cells": [
  {
   "cell_type": "markdown",
   "id": "21e1de39",
   "metadata": {},
   "source": [
    "# **Intro and instructions**\n",
    "This Jupyter Notebook serves as the user interface for the protein A bind and elute model.<br>\n",
    "All data necessary for model configuration will be entered into this notebook and the simulation can be run from here.<br>\n",
    "To use the protein A model, CADET and CADET-Process including pH dependent surface diffusion and the colloidal isotherm must be installed. <br>\n",
    "\n",
    "Additionally, several modules (which are imported below), should be kept in the modules folder within this directory to run the model.<br>\n",
    "If running inverse fitting and/or using a user defined pH profile, experimental data will need to be provided in an excel workbook, the format of which is described in the relevant section below.<br>\n",
    "___"
   ]
  },
  {
   "cell_type": "markdown",
   "id": "46752f16",
   "metadata": {},
   "source": [
    "Necessary dependencies and modules are imported here."
   ]
  },
  {
   "cell_type": "code",
   "execution_count": 1,
   "id": "a5f47e2e",
   "metadata": {},
   "outputs": [],
   "source": [
    "import sys\n",
    "import os\n",
    "from pathlib import Path\n",
    "from addict import Dict\n",
    "sys.path.append(os.path.join(os.getcwd(), \"../modules\"))\n",
    "import create_model_structure, CADET_Process_configuration, evaluate_sim, make_outputs\n",
    "import CSTR_v240927 as CSTR\n",
    "import resin_titration_diffeq_v240927 as titration"
   ]
  },
  {
   "cell_type": "markdown",
   "id": "c1510ce3-e215-4586-bf0c-e6d618632e5f",
   "metadata": {},
   "source": [
    "Creating the dictionary to store all inputs. (Do not edit)"
   ]
  },
  {
   "cell_type": "code",
   "execution_count": 2,
   "id": "9c2456ba-7b6e-49c5-9951-d87abe5666c5",
   "metadata": {},
   "outputs": [],
   "source": [
    "inputs = Dict()\n",
    "pH_sim = Dict()\n",
    "fit = Dict()"
   ]
  },
  {
   "cell_type": "markdown",
   "id": "2b001999",
   "metadata": {},
   "source": [
    "___\n",
    "## **Follow the instructions below to set up the protein A model.**"
   ]
  },
  {
   "cell_type": "markdown",
   "id": "9ea3d5d3-f899-454f-b0ac-0bbc0f3cc7d2",
   "metadata": {},
   "source": [
    "**First, decide on some settings.**<br>"
   ]
  },
  {
   "cell_type": "markdown",
   "id": "771fb024-d00a-456f-9665-f0a8aa562a5e",
   "metadata": {},
   "source": [
    "**Choose whether to run only a breakthrough or a load-wash-elute process**<br>\n",
    "To run a breakthrough (load and wash only), set subprocess to 'BTC'.<br>\n",
    "To run a load-wash-elute process set subprocess to 'LWE'.<br>"
   ]
  },
  {
   "cell_type": "code",
   "execution_count": 3,
   "id": "d89674d6-5405-4c15-aa5a-638db5707773",
   "metadata": {},
   "outputs": [],
   "source": [
    "subprocess = 'LWE'"
   ]
  },
  {
   "cell_type": "markdown",
   "id": "4d614eb1-01d6-462b-aa7d-82eed91e6bb0",
   "metadata": {},
   "source": [
    "**Choose whether to use constant parameters or pH dependent parameters**<br>\n",
    "If only running a breakthrough simulation, you can use either the full set of pH dependent parameters (lnKe0, lnKe1, Bpp0, Bpp1, Ds0, Ds1, pore_diff) or constant parameters (lnKe, Bpp, pore_diff, with Ds=0).<br>\n",
    "To use the full set of parameters, set use_pH_dependence=True<br>\n",
    "To use only the constant parameters, set use_pH_dependence=False<br>"
   ]
  },
  {
   "cell_type": "code",
   "execution_count": 4,
   "id": "35823e6c-f35b-4eb5-8617-b5812a84d96a",
   "metadata": {},
   "outputs": [],
   "source": [
    "use_pH_dependence=True"
   ]
  },
  {
   "cell_type": "markdown",
   "id": "48a8e3d6-86fe-4ecb-96bd-49114f4bd126",
   "metadata": {},
   "source": [
    "**Set the type of elution H+ profile to use**<br>\n",
    "Several options are available to define the elution profile.<br>\n",
    "The profile variable can be set to the options described below.<br>\n",
    "profile = 'step' : a simple step elution not accounting for buffer reactions or resin titration.<br>\n",
    "profile = 'linear' : a linear elution gradient in H+ (not pH) not accounting for buffer reactions or resin titration.<br>\n",
    "profile = 'simulated' : a simulated profile accounting for buffer reactions and resin titration.<br>\n",
    "profile = 'user_defined' : a time series given by the user is used.<br>"
   ]
  },
  {
   "cell_type": "code",
   "execution_count": 5,
   "id": "d421f683-5f00-45cf-b810-62507e8124f1",
   "metadata": {},
   "outputs": [],
   "source": [
    "profile = 'step'"
   ]
  },
  {
   "cell_type": "markdown",
   "id": "b1a9a8e5-16c9-4ed2-9d6c-9d93c6f37c0c",
   "metadata": {},
   "source": [
    "If using a user_defined inlet profile, enter the name of the workbook here.<br>\n",
    "The first column should be volume in mL and the second should be [H+] in mM."
   ]
  },
  {
   "cell_type": "code",
   "execution_count": 6,
   "id": "19567b57-555d-4276-8547-cea7ec5c2bd8",
   "metadata": {},
   "outputs": [],
   "source": [
    "#profile_path = r'example_inlet_profile.xlsx'"
   ]
  },
  {
   "cell_type": "markdown",
   "id": "29bdee17",
   "metadata": {},
   "source": [
    "**Enter whether you would like to run a forward simulation or run inverse fitting.**<br>\n",
    "Enter 'forward' or 'fit'."
   ]
  },
  {
   "cell_type": "code",
   "execution_count": 7,
   "id": "3cd5db36",
   "metadata": {},
   "outputs": [],
   "source": [
    "inputs.run_type = 'forward'"
   ]
  },
  {
   "cell_type": "markdown",
   "id": "6faa5c1a",
   "metadata": {},
   "source": [
    "**Set the elution pooling criteria.**<br>\n",
    "Here, concentration is used similarly to how a UV cutoff would be, with cutoffs set separately for the start and end of collection in units of [mg/mL]."
   ]
  },
  {
   "cell_type": "code",
   "execution_count": 8,
   "id": "6edba607",
   "metadata": {},
   "outputs": [],
   "source": [
    "inputs.pool_start_conc = 5\n",
    "inputs.pool_end_conc   = 5"
   ]
  },
  {
   "cell_type": "markdown",
   "id": "a2c74fbb-ad9a-4be1-836e-f15846735c62",
   "metadata": {},
   "source": [
    "**Set which range on the x-axis to plot in CVs (to zoom in on elution, for example)**"
   ]
  },
  {
   "cell_type": "code",
   "execution_count": 9,
   "id": "b7aabe33-d0e3-4f6c-bd1c-04e09085e400",
   "metadata": {},
   "outputs": [],
   "source": [
    "inputs.plot_start_CV = 0\n",
    "inputs.plot_end_CV = 63"
   ]
  },
  {
   "cell_type": "markdown",
   "id": "d57c7e91",
   "metadata": {},
   "source": [
    "**Enter the process information.**<br>\n",
    "To enable working with multiple experiments simultaneously, process conditions are entered as lists of the format: <br>[experiment 1, experiment 2, experiment 3, ...]"
   ]
  },
  {
   "cell_type": "markdown",
   "id": "b6cdba6b",
   "metadata": {},
   "source": [
    "**Enter the step length in column volumes for each step in the method.**"
   ]
  },
  {
   "cell_type": "code",
   "execution_count": 10,
   "id": "5c63e2b5",
   "metadata": {},
   "outputs": [],
   "source": [
    "inputs.load_CV = [38.24]\n",
    "inputs.wash_CV = [20]\n",
    "inputs.elution_CV = [5]"
   ]
  },
  {
   "cell_type": "markdown",
   "id": "2285da8a",
   "metadata": {},
   "source": [
    "**Enter the residence time for each step in the method.**"
   ]
  },
  {
   "cell_type": "code",
   "execution_count": 11,
   "id": "a7e53c28",
   "metadata": {},
   "outputs": [],
   "source": [
    "inputs.load_RT = [2]\n",
    "inputs.wash_RT = [2]\n",
    "inputs.elution_RT = [2]"
   ]
  },
  {
   "cell_type": "markdown",
   "id": "aa3576f1",
   "metadata": {},
   "source": [
    "**Enter the pH for each step in the method.**"
   ]
  },
  {
   "cell_type": "code",
   "execution_count": 12,
   "id": "8e58ac24",
   "metadata": {},
   "outputs": [],
   "source": [
    "inputs.load_pH = [7.4]\n",
    "inputs.wash_pH = [7.4]\n",
    "inputs.elution_pH = [3.5]"
   ]
  },
  {
   "cell_type": "markdown",
   "id": "b7d0d51a",
   "metadata": {},
   "source": [
    "**Enter the feed information.**<br>\n",
    "The model is set up to work with multiple components. For calculation purposes, the monomer concentration should be listed first."
   ]
  },
  {
   "cell_type": "markdown",
   "id": "4f4785af",
   "metadata": {},
   "source": [
    "**Enter the protein molecular weights in kilodaltons with the monomer first and aggregate second**"
   ]
  },
  {
   "cell_type": "code",
   "execution_count": 13,
   "id": "94076ae0",
   "metadata": {},
   "outputs": [],
   "source": [
    "inputs.molecular_weights = [148]"
   ]
  },
  {
   "cell_type": "markdown",
   "id": "fccc802a",
   "metadata": {},
   "source": [
    "**Enter the concentrations of each species in the feed**<br>\n",
    "Units should be mg/mL. Components should be entered as a nested list where the outer list corresponds to experiments while the inner lists correspond to components.<br>\n",
    "format: [[exp1 comp1, exp1 comp2], [exp2 comp1, exp2 comp2] ...]"
   ]
  },
  {
   "cell_type": "code",
   "execution_count": 14,
   "id": "6d9e45df",
   "metadata": {},
   "outputs": [],
   "source": [
    "inputs.feed_conc = [[4.69,],]"
   ]
  },
  {
   "cell_type": "markdown",
   "id": "ca8ae615",
   "metadata": {},
   "source": [
    "**Enter the resin information.**<br>\n",
    "Ee: Extra-particle porosity (usuall around 0.4) unitless <br>\n",
    "Ep: Intra-particle porosity (usually around 0.7 - 0.95) unitless <br>\n",
    "Particle_diameter: particle diameter in micrometers <br>\n",
    "Phase_ratio: phase ratio in $m^2/m^3$ surface area per unit volume<br>"
   ]
  },
  {
   "cell_type": "code",
   "execution_count": 15,
   "id": "ee82ee2e",
   "metadata": {},
   "outputs": [],
   "source": [
    "inputs.Ee = 0.34\n",
    "inputs.Ep = 0.92\n",
    "inputs.particle_diameter = 54.1\n",
    "inputs.phase_ratio = 5.91e8"
   ]
  },
  {
   "cell_type": "markdown",
   "id": "03ab2540",
   "metadata": {},
   "source": [
    "**Enter information about the column geometry.**<br>\n",
    "col_id: column internal diameter in [cm]<br>\n",
    "col_length: column length in [cm]"
   ]
  },
  {
   "cell_type": "code",
   "execution_count": 16,
   "id": "251cb754",
   "metadata": {},
   "outputs": [],
   "source": [
    "inputs.col_id = 0.5\n",
    "inputs.col_length = 1.8"
   ]
  },
  {
   "attachments": {},
   "cell_type": "markdown",
   "id": "a6b08c5d",
   "metadata": {},
   "source": [
    "**Enter information about the system tubing.**<br><br>\n",
    "Tubing is defined independently for the load and wash sections and for the elution section, reflecting that the flowpath is often different for these sections. Thus, the system hold-up-volume may be different for these two sections, and using different tubing sizes for each section allows this to be adjusted.\n",
    "<div>\n",
    "<center><img src=\"../figures/flow_diagram.png\" width=\"500\"/></center>\n",
    "</div>\n",
    "load_tubing_id: tubing internal diameter for load and wash sections in [mm]<br>\n",
    "load_tubing_length: tubing length for load and wash sections in [cm]\n",
    "<br><br>\n",
    "elu_tubing_id: tubing internal diameter for elution section in [mm]<br>\n",
    "elu_tubing_length: tubing length for elution section in [cm]\n",
    "<br><br>\n",
    "If you do not wish to include tubing in the model for either section, you can set the tubing length to 0 (This will remove the unit operation completely)."
   ]
  },
  {
   "cell_type": "code",
   "execution_count": 17,
   "id": "6ec09fcc",
   "metadata": {},
   "outputs": [],
   "source": [
    "inputs.load_tubing_id = 0.25\n",
    "inputs.load_tubing_length = 0\n",
    "inputs.elu_tubing_id = 0.25\n",
    "inputs.elu_tubing_length = 0"
   ]
  },
  {
   "cell_type": "markdown",
   "id": "67056f8d-7b97-4a14-9388-ca78d96c8680",
   "metadata": {},
   "source": [
    "___\n",
    "## **pH trace simulation**\n",
    "\n",
    "The inputs in this section are only used if you are simulating the pH trace."
   ]
  },
  {
   "cell_type": "markdown",
   "id": "f9a8fc19-d98a-4fec-970b-b631011ddafa",
   "metadata": {},
   "source": [
    "**Enter the volume of the mixer to use for pH trace simulation**<br>\n",
    "A non-zero value is required here if using the simulated pH trace.<br>\n",
    "This value should reflect the actual system mixer volume if there is one in line."
   ]
  },
  {
   "cell_type": "code",
   "execution_count": 18,
   "id": "79ca03e0-1a8c-401f-a30b-e614bab4bbe0",
   "metadata": {},
   "outputs": [],
   "source": [
    "pH_sim.mixer_volume = 0.09"
   ]
  },
  {
   "cell_type": "markdown",
   "id": "6875e345-d0c7-4d2a-8929-2522efc8f4e0",
   "metadata": {},
   "source": [
    "**Enter the concentrations for the wash buffer in [mM]**"
   ]
  },
  {
   "cell_type": "code",
   "execution_count": 19,
   "id": "06c2fd8a-79f7-4e14-81cb-e748f2983451",
   "metadata": {},
   "outputs": [],
   "source": [
    "pH_sim.wash_buffer.buffer1_total = 50\n",
    "pH_sim.wash_buffer.buffer2_total = 0\n",
    "pH_sim.wash_buffer.NaCl = 150\n",
    "pH_sim.wash_buffer.Na = 150\n",
    "pH_sim.wash_buffer.Cl = 193"
   ]
  },
  {
   "cell_type": "markdown",
   "id": "d864a4b0-5ee8-4886-b100-7e88ee0923aa",
   "metadata": {},
   "source": [
    "**Enter the concentrations for the elution buffer in [mM]**"
   ]
  },
  {
   "cell_type": "code",
   "execution_count": 20,
   "id": "ce217d5a-7a60-4ce6-b6b6-a6d491c4df09",
   "metadata": {},
   "outputs": [],
   "source": [
    "pH_sim.elution_buffer.buffer1_total = 0\n",
    "pH_sim.elution_buffer.buffer2_total = 50\n",
    "pH_sim.elution_buffer.NaCl = 50\n",
    "pH_sim.elution_buffer.Na = 53.53\n",
    "pH_sim.elution_buffer.Cl = 50"
   ]
  },
  {
   "cell_type": "markdown",
   "id": "5abbd9a3-e4cf-45f5-921c-c1ee27de2888",
   "metadata": {},
   "source": [
    "**Enter info for resin titration sim**"
   ]
  },
  {
   "cell_type": "markdown",
   "id": "a279aad8-9b71-46ad-a186-39a8231bcc4c",
   "metadata": {},
   "source": [
    "Enter the number of axial discretization cells to use for the resin titration simulation"
   ]
  },
  {
   "cell_type": "code",
   "execution_count": 21,
   "id": "b1fbf48e-9a7a-4506-bbef-5eb4547b5073",
   "metadata": {},
   "outputs": [],
   "source": [
    "pH_sim.N = 60"
   ]
  },
  {
   "cell_type": "markdown",
   "id": "6d945136-1ac2-44f4-a427-428fb5de060d",
   "metadata": {},
   "source": [
    "**Enter the ligand density in mM packed column and the pKa of the ligand for titration.**<br>\n",
    "The ligand density can be approximated or measured via titration.<br>\n",
    "An estimated average pKa of titratable amino acids, ~4.0, is used here."
   ]
  },
  {
   "cell_type": "code",
   "execution_count": 22,
   "id": "0a1de5d9-2800-46be-9d4b-c84aa49cb46f",
   "metadata": {},
   "outputs": [],
   "source": [
    "pH_sim.ligand_density = 20 \n",
    "pH_sim.ligand_pK = 4.0"
   ]
  },
  {
   "cell_type": "markdown",
   "id": "ff1964eb-5b60-467e-a970-a7f7fc68f889",
   "metadata": {},
   "source": [
    "**Enter chemical properties to use for the wash buffer**<br>\n",
    "For example, for Tris buffer:<br>\n",
    "wash_buffer.pKa = 8.07<br>\n",
    "wash_buffer.zA = 1<br>"
   ]
  },
  {
   "cell_type": "code",
   "execution_count": 23,
   "id": "17509e95-aafd-4b99-8008-598b1347aa45",
   "metadata": {},
   "outputs": [],
   "source": [
    "pH_sim.wash_buffer.pKa = 8.07\n",
    "pH_sim.wash_buffer.zA = 1"
   ]
  },
  {
   "cell_type": "markdown",
   "id": "e0ed64b9-c517-405d-9178-e017568c9155",
   "metadata": {},
   "source": [
    "**Enter chemical properties to use for the elution buffer**<br>\n",
    "For example, for acetate buffer:<br>\n",
    "elution_buffer.pKa = 4.76<br>\n",
    "elution_buffer.zA = 0"
   ]
  },
  {
   "cell_type": "code",
   "execution_count": 24,
   "id": "9c331e39-28cf-48a3-8fc2-59a6fdaa0518",
   "metadata": {},
   "outputs": [],
   "source": [
    "pH_sim.elution_buffer.pKa = 4.76\n",
    "pH_sim.elution_buffer.zA = 0"
   ]
  },
  {
   "cell_type": "markdown",
   "id": "89b9d980",
   "metadata": {},
   "source": [
    "___\n",
    "## **Forward simulation**\n",
    "**If you are running a forward simulation, enter the parameter values for each component as a list.**<br>\n",
    "format: [component 1, component 2, ...]"
   ]
  },
  {
   "cell_type": "markdown",
   "id": "23d3cd03-e66c-4293-95e9-6b705eb1cbf9",
   "metadata": {},
   "source": [
    "**Enter a value for pore diffusivity. This is the same whether use_pH_dependence is True or False**<br> \n",
    "pore_diff: # * 1e-12 [m^2/s] pore diffusivity"
   ]
  },
  {
   "cell_type": "code",
   "execution_count": 25,
   "id": "9f4586e2-1e4e-42a1-a14c-802c16806dac",
   "metadata": {},
   "outputs": [],
   "source": [
    "inputs.params.pore_diff = [1.54]"
   ]
  },
  {
   "cell_type": "markdown",
   "id": "84c924f5-92f1-4733-b834-d52935a47cf4",
   "metadata": {},
   "source": [
    "**If use_pH_dependence is False, enter values for lnke, Bpp, and Ds**<br>\n",
    "lnKe: [-] equilibrium constant<br>\n",
    "Bpp: [-] protein-protein interaction parameter<br>\n",
    "Ds: # * 1e-12 [m^2/s] surface diffusivity (assume 0 for high pH)<br>"
   ]
  },
  {
   "cell_type": "code",
   "execution_count": 26,
   "id": "2715abc7-ffd1-4629-a68b-e71633439b86",
   "metadata": {},
   "outputs": [],
   "source": [
    "inputs.params.lnKe = [39.881]\n",
    "inputs.params.Bpp = [25.082]\n",
    "inputs.params.Ds = [0]"
   ]
  },
  {
   "cell_type": "markdown",
   "id": "760feca1-2f42-483a-bb14-517e8f7c56d5",
   "metadata": {},
   "source": [
    "**If use_pH_dependence=True, enter values for all pH dependent parameters**<br>\n",
    "lnKe0: [-] equilibrium constant base parameter<br>\n",
    "lnKe1: [-] equilibrium  constant pH dependence parameter<br>\n",
    "Bpp0: [-] protein-protein interaction base parameter<br>\n",
    "Bpp1: [-] protein-protein interaction pH dependence parameter<br>\n",
    "Ds0: # * 1e-12 [m^2/s] surface diffusivity base parameter<br>\n",
    "Ds1: [-] surface diffusivity pH dependence parameter<br>"
   ]
  },
  {
   "cell_type": "code",
   "execution_count": 27,
   "id": "7eaeffac",
   "metadata": {},
   "outputs": [],
   "source": [
    "inputs.params.lnKe0 = [39.91]\n",
    "inputs.params.lnKe1 = [-28.543]\n",
    "inputs.params.Bpp0 = [8.7894]\n",
    "inputs.params.Bpp1 = [-0.099]\n",
    "inputs.params.Ds0 = [0.00051]\n",
    "inputs.params.Ds1 = [93.031]"
   ]
  },
  {
   "attachments": {},
   "cell_type": "markdown",
   "id": "16e164cd",
   "metadata": {},
   "source": [
    "___\n",
    "## **Fitting**\n",
    "**If you are running inverse fitting, enter the path to the excel workbook containing the experimental data.**<br>\n",
    "BE SURE TO INCLUDE THE FILE EXTENSION (.xlsx etc)\n",
    "<br><br>\n",
    "Experimental Input data should be collected in an excel file with the following format:\n",
    "<div>\n",
    "<center><img src=\"../figures/example_excel.png\" width=\"500\"/></center>\n",
    "</div>\n",
    "The first row will be skipped and can be used as a header, data should begin in the second row\n",
    "To fit multiple experiments at once, add each experiment in a new sheet in the excel file.\n",
    "<br><br>\n",
    "The concentration curve could be created either by collecting fractions and measuring concentrations offline or by creating a calibration curve using a set of known concentration sample injections on the AKTA and using this calibration curve to convert UV signal to protein concentration."
   ]
  },
  {
   "cell_type": "code",
   "execution_count": 28,
   "id": "bcbc000c",
   "metadata": {},
   "outputs": [],
   "source": [
    "fit.data_path = r'example_chromatogram.xlsx'"
   ]
  },
  {
   "cell_type": "markdown",
   "id": "0baacc12",
   "metadata": {},
   "source": [
    "**Enter the concentration where saturation occurs or the calibration curve ends for each component.**<br>\n",
    "Concentration values above this cutoff will not be used for fitting.<br>\n",
    "If it is not an issue, this can be set to an arbitrary high value.."
   ]
  },
  {
   "cell_type": "code",
   "execution_count": 29,
   "id": "70096719",
   "metadata": {},
   "outputs": [],
   "source": [
    "fit.conc_cutoff = [1000]"
   ]
  },
  {
   "cell_type": "markdown",
   "id": "9be89c55-1657-4b9a-b4fb-217e405e49b4",
   "metadata": {},
   "source": [
    "**Enter the bounds to use for each parameter and for each component that you would like to fit.**<br>\n",
    "format: ((comp1_lower_bound, comp1_upper_bound), (comp2_lower_bound, comp2_upper_bound), ...)\n",
    "\n",
    "<span style=\"color: red;\">**Only enter bounds for the parameters that you want to fit. If bounds are supplied for a given parameter, the parameter will be fit. Otherwise, the value set in the Forward Simulation section will be used.**</span>"
   ]
  },
  {
   "cell_type": "markdown",
   "id": "6f6629ee-3d59-4f04-b0a1-775f8445fee2",
   "metadata": {},
   "source": [
    "**Enter bounds for pore diffusivity. This is the same whether use_pH_dependence is True or False**<br> \n",
    "pore_diff: # * 1e-12 [m^2/s] pore diffusivity"
   ]
  },
  {
   "cell_type": "code",
   "execution_count": 30,
   "id": "99ccc83a-945f-4871-9b23-1d1e5b940ed9",
   "metadata": {},
   "outputs": [],
   "source": [
    "fit.bounds.pore_diff = ((1, 6),)"
   ]
  },
  {
   "cell_type": "markdown",
   "id": "9a03693a-0bd8-42ad-9cef-f5533badc432",
   "metadata": {},
   "source": [
    "**If use_pH_dependence is False, enter bounds for lnke, Bpp, and Ds**<br>\n",
    "lnKe: [-] equilibrium constant<br>\n",
    "Bpp: [-] protein-protein interaction parameter<br>\n",
    "Ds: # * 1e-12 [m^2/s] surface diffusivity (assume 0 for high pH)<br>"
   ]
  },
  {
   "cell_type": "code",
   "execution_count": 31,
   "id": "e0f3e8f8-2df3-4880-96bf-f44c6e98716d",
   "metadata": {},
   "outputs": [],
   "source": [
    "fit.bounds.lnKe = ((25, 30),)\n",
    "fit.bounds.Bpp = ((5, 14),)\n",
    "#fit.bounds.Ds = ((0.01, 2),)"
   ]
  },
  {
   "cell_type": "markdown",
   "id": "f278c110-6e57-42aa-83cb-16fb98f059c2",
   "metadata": {},
   "source": [
    "**If use_pH_dependence=True, enter bounds for pH dependent parameters**<br>\n",
    "lnKe0: [-] equilibrium constant base parameter<br>\n",
    "lnKe1: [-] equilibrium  constant pH dependence parameter<br>\n",
    "Bpp0: [-] protein-protein interaction base parameter<br>\n",
    "Bpp1: [-] protein-protein interaction pH dependence parameter<br>\n",
    "Ds0: # * 1e-12 [m^2/s] surface diffusivity base parameter<br>\n",
    "Ds1: [-] surface diffusivity pH dependence parameter<br>"
   ]
  },
  {
   "cell_type": "code",
   "execution_count": 32,
   "id": "f2571abc-5aef-400c-a52b-a6c161b598ab",
   "metadata": {},
   "outputs": [],
   "source": [
    "fit.bounds.lnKe0 = ((30, 50),)\n",
    "fit.bounds.lnKe1 = ((-30, -25),)\n",
    "fit.bounds.Bpp0 = ((5, 14),)\n",
    "fit.bounds.Bpp1 = ((-0.5, -0.001),)\n",
    "#fit.bounds.Ds0 = ((1e-5, 2),)\n",
    "#fit.bounds.Ds1 = ((10, 100),) "
   ]
  },
  {
   "cell_type": "markdown",
   "id": "4da6a074",
   "metadata": {},
   "source": [
    "# **Running the simulation**\n",
    "\n",
    "You do not need to edit any of the cells below.<br><br>\n",
    "Running the below cells will perform the last steps needed to run the simulation.\n",
    "___"
   ]
  },
  {
   "cell_type": "markdown",
   "id": "f2be0213",
   "metadata": {},
   "source": [
    "Here, the inputs are passed to the 'create_model_structure' module where preliminary calculations are performed."
   ]
  },
  {
   "cell_type": "code",
   "execution_count": 33,
   "id": "20cf74b6",
   "metadata": {},
   "outputs": [],
   "source": [
    "if inputs.run_type == 'fit':\n",
    "    inputs.update(fit)\n",
    "\n",
    "if profile == 'simulated':\n",
    "    inputs.update(pH_sim)\n",
    "elif profile == 'user_defined':\n",
    "    inputs.profile_path = profile_path\n",
    "   \n",
    "ms_list = create_model_structure.create_model_structures(inputs) "
   ]
  },
  {
   "cell_type": "markdown",
   "id": "50001b27-ffcf-4c80-9427-aa99bf73ac37",
   "metadata": {},
   "source": [
    "A unique folder where the results of the current simulation will be stored is created."
   ]
  },
  {
   "cell_type": "code",
   "execution_count": 34,
   "id": "63092b42-5fd8-4465-be68-5a09df9b0780",
   "metadata": {},
   "outputs": [],
   "source": [
    "folder = make_outputs.make_results_folder(inputs.run_type, os.getcwd())"
   ]
  },
  {
   "cell_type": "markdown",
   "id": "84707d08",
   "metadata": {},
   "source": [
    "If a simulated profile is being used, this will run the CSTR simulation."
   ]
  },
  {
   "cell_type": "code",
   "execution_count": 35,
   "id": "f199e267",
   "metadata": {},
   "outputs": [],
   "source": [
    "if profile == 'simulated':\n",
    "    for ms in ms_list:\n",
    "        ms = CSTR.get_CSTR_profile(ms)\n",
    "        CSTR.plot_CSTR(ms, folder)\n",
    "        CSTR.make_excel(ms, folder)"
   ]
  },
  {
   "cell_type": "markdown",
   "id": "ad5c1227",
   "metadata": {},
   "source": [
    "If a simulated profile is being used, this will run the resin titration simulation."
   ]
  },
  {
   "cell_type": "code",
   "execution_count": 36,
   "id": "f367bbfd",
   "metadata": {},
   "outputs": [],
   "source": [
    "if profile == 'simulated':\n",
    "    for ms in ms_list:\n",
    "        ms = titration.resin_titration(ms)\n",
    "        titration.plot_titration(ms, folder)\n",
    "        titration.make_excel(ms, folder)"
   ]
  },
  {
   "cell_type": "markdown",
   "id": "07851c09",
   "metadata": {},
   "source": [
    "Finally, run the CADET column simulation."
   ]
  },
  {
   "cell_type": "code",
   "execution_count": 37,
   "id": "aa9a13df",
   "metadata": {},
   "outputs": [
    {
     "name": "stdout",
     "output_type": "stream",
     "text": [
      "\n",
      "CADET-Process simulation running!\n",
      "\n",
      "Simulation completed in 16.51 seconds.\n",
      "\n"
     ]
    },
    {
     "data": {
      "image/png": "[encoded data removed]",
      "text/plain": [
       "<Figure size 700x600 with 2 Axes>"
      ]
     },
     "metadata": {},
     "output_type": "display_data"
    }
   ],
   "source": [
    "all_curves = []\n",
    "all_results = []\n",
    "for ms in ms_list:    \n",
    "    sim_solution = CADET_Process_configuration.run(ms, subprocess=subprocess, profile=profile,\n",
    "                                                   use_pH_dependence=use_pH_dependence,\n",
    "                                                )\n",
    "    \n",
    "    simulation_curves = evaluate_sim.process_simulation_data(sim_solution, ms)\n",
    "    results = evaluate_sim.evaluate_simulation(simulation_curves, ms)  \n",
    "    all_curves.append(simulation_curves)\n",
    "    all_results.append(results)\n",
    "\n",
    "# make excel workbook outputs containing results for all experiments\n",
    "make_outputs.make_excels(all_results, all_curves, folder)\n",
    "make_outputs.make_plots(all_curves, ms_list, folder)"
   ]
  },
  {
   "cell_type": "code",
   "execution_count": null,
   "id": "c51c6b27-ac9e-4a2d-afae-df87720de1c5",
   "metadata": {},
   "outputs": [],
   "source": []
  }
 ],
 "metadata": {
  "kernelspec": {
   "display_name": "CADET-env",
   "language": "python",
   "name": "cadet-env"
  },
  "language_info": {
   "codemirror_mode": {
    "name": "ipython",
    "version": 3
   },
   "file_extension": ".py",
   "mimetype": "text/x-python",
   "name": "python",
   "nbconvert_exporter": "python",
   "pygments_lexer": "ipython3",
   "version": "3.12.4"
  }
 },
 "nbformat": 4,
 "nbformat_minor": 5
}
